{
 "cells": [
  {
   "cell_type": "markdown",
   "metadata": {
    "id": "NyHIGVhfa_Wf"
   },
   "source": [
    "# Стохастический градиентный и координатный спуски"
   ]
  },
  {
   "cell_type": "markdown",
   "metadata": {
    "id": "gn6lluIADUKa"
   },
   "source": [
    "Для каждого задания указано количество баллов (если они оцениваются отдельно) + 1 балл за аккуратное и полное выполнение всего задания"
   ]
  },
  {
   "cell_type": "code",
   "execution_count": 47,
   "metadata": {
    "collapsed": false,
    "ExecuteTime": {
     "end_time": "2024-03-12T22:29:55.554283Z",
     "start_time": "2024-03-12T22:29:55.552193Z"
    }
   },
   "outputs": [],
   "source": [
    "from pathlib import Path\n",
    "\n",
    "import pandas as pd\n",
    "import numpy as np\n",
    "import plotly.express as px\n",
    "from plotly.graph_objects import Figure\n",
    "from rich.jupyter import print\n",
    "from rich.table import Table\n",
    "from pylatexenc.latex2text import LatexNodes2Text"
   ]
  },
  {
   "cell_type": "markdown",
   "metadata": {
    "id": "txCccYvha_Wv"
   },
   "source": [
    "## Загрузка и подготовка данных"
   ]
  },
  {
   "cell_type": "markdown",
   "metadata": {
    "id": "NbyOzeZ6a_Wx"
   },
   "source": [
    "**Загрузите уже знакомый вам файл *Advertising.csv* как объект DataFrame.** "
   ]
  },
  {
   "cell_type": "code",
   "execution_count": 48,
   "metadata": {
    "id": "E1L4_xeDa_Wz",
    "ExecuteTime": {
     "end_time": "2024-03-12T22:29:55.666487Z",
     "start_time": "2024-03-12T22:29:55.660845Z"
    }
   },
   "outputs": [
    {
     "data": {
      "text/plain": "   Unnamed: 0     TV  radio  newspaper  sales\n0           1  230.1   37.8       69.2   22.1\n1           2   44.5   39.3       45.1   10.4\n2           3   17.2   45.9       69.3    9.3\n3           4  151.5   41.3       58.5   18.5\n4           5  180.8   10.8       58.4   12.9",
      "text/html": "<div>\n<style scoped>\n    .dataframe tbody tr th:only-of-type {\n        vertical-align: middle;\n    }\n\n    .dataframe tbody tr th {\n        vertical-align: top;\n    }\n\n    .dataframe thead th {\n        text-align: right;\n    }\n</style>\n<table border=\"1\" class=\"dataframe\">\n  <thead>\n    <tr style=\"text-align: right;\">\n      <th></th>\n      <th>Unnamed: 0</th>\n      <th>TV</th>\n      <th>radio</th>\n      <th>newspaper</th>\n      <th>sales</th>\n    </tr>\n  </thead>\n  <tbody>\n    <tr>\n      <th>0</th>\n      <td>1</td>\n      <td>230.1</td>\n      <td>37.8</td>\n      <td>69.2</td>\n      <td>22.1</td>\n    </tr>\n    <tr>\n      <th>1</th>\n      <td>2</td>\n      <td>44.5</td>\n      <td>39.3</td>\n      <td>45.1</td>\n      <td>10.4</td>\n    </tr>\n    <tr>\n      <th>2</th>\n      <td>3</td>\n      <td>17.2</td>\n      <td>45.9</td>\n      <td>69.3</td>\n      <td>9.3</td>\n    </tr>\n    <tr>\n      <th>3</th>\n      <td>4</td>\n      <td>151.5</td>\n      <td>41.3</td>\n      <td>58.5</td>\n      <td>18.5</td>\n    </tr>\n    <tr>\n      <th>4</th>\n      <td>5</td>\n      <td>180.8</td>\n      <td>10.8</td>\n      <td>58.4</td>\n      <td>12.9</td>\n    </tr>\n  </tbody>\n</table>\n</div>"
     },
     "execution_count": 48,
     "metadata": {},
     "output_type": "execute_result"
    }
   ],
   "source": [
    "DATA_PATH = \"Advertising.csv\"\n",
    "\n",
    "DATA_PATH = Path(DATA_PATH)\n",
    "assert DATA_PATH.exists()\n",
    "\n",
    "advertising_df = pd.read_csv(DATA_PATH)\n",
    "advertising_df.head()"
   ]
  },
  {
   "cell_type": "markdown",
   "metadata": {
    "id": "bf4aVFndDUKf"
   },
   "source": [
    "**Проверьте, есть ли в данных пропуски и, если они есть - удалите их**"
   ]
  },
  {
   "cell_type": "code",
   "execution_count": 49,
   "metadata": {
    "id": "tiVeFnR5DUKg",
    "ExecuteTime": {
     "end_time": "2024-03-12T22:29:55.671393Z",
     "start_time": "2024-03-12T22:29:55.667371Z"
    }
   },
   "outputs": [
    {
     "name": "stdout",
     "output_type": "stream",
     "text": [
      "<class 'pandas.core.frame.DataFrame'>\n",
      "RangeIndex: 200 entries, 0 to 199\n",
      "Data columns (total 5 columns):\n",
      " #   Column      Non-Null Count  Dtype  \n",
      "---  ------      --------------  -----  \n",
      " 0   Unnamed: 0  200 non-null    int64  \n",
      " 1   TV          200 non-null    float64\n",
      " 2   radio       200 non-null    float64\n",
      " 3   newspaper   200 non-null    float64\n",
      " 4   sales       200 non-null    float64\n",
      "dtypes: float64(4), int64(1)\n",
      "memory usage: 7.9 KB\n"
     ]
    }
   ],
   "source": [
    "advertising_df.info()"
   ]
  },
  {
   "cell_type": "markdown",
   "metadata": {
    "id": "rTkiqPr_DUKh"
   },
   "source": [
    "**Преобразуйте ваши признаки в массивы NumPy и разделите их на переменные X (предикторы) и y(целевая переменная)** "
   ]
  },
  {
   "cell_type": "code",
   "execution_count": 50,
   "metadata": {
    "id": "R9OHIRB3a_Xa",
    "ExecuteTime": {
     "end_time": "2024-03-12T22:29:55.681389Z",
     "start_time": "2024-03-12T22:29:55.679382Z"
    }
   },
   "outputs": [],
   "source": [
    "predictors = advertising_df[['TV', 'radio', 'newspaper']].values\n",
    "target = advertising_df['sales'].values"
   ]
  },
  {
   "cell_type": "markdown",
   "metadata": {
    "id": "KCvjSoHEDUKo"
   },
   "source": [
    "## Координатный спуск (3 балла)"
   ]
  },
  {
   "cell_type": "markdown",
   "metadata": {
    "id": "yjNm8dATDUKq"
   },
   "source": [
    "**Добавим единичный столбец для того, чтобы у нас был свободный коэффициент в уравнении регрессии:**"
   ]
  },
  {
   "cell_type": "code",
   "execution_count": 51,
   "metadata": {
    "id": "LMgq0fmKDUKr",
    "ExecuteTime": {
     "end_time": "2024-03-12T22:29:55.685178Z",
     "start_time": "2024-03-12T22:29:55.683191Z"
    }
   },
   "outputs": [],
   "source": [
    "predictors_with_bias = np.hstack([np.ones(predictors.shape[0]).reshape(-1, 1), predictors])"
   ]
  },
  {
   "cell_type": "markdown",
   "metadata": {
    "id": "R008OQwcDUKt"
   },
   "source": [
    "**Нормализуем данные: обычно это необходимо для корректной работы алгоритма**"
   ]
  },
  {
   "cell_type": "markdown",
   "metadata": {
    "collapsed": false
   },
   "source": []
  },
  {
   "cell_type": "code",
   "execution_count": 52,
   "metadata": {
    "id": "2Sk7Wx-SDUKt",
    "ExecuteTime": {
     "end_time": "2024-03-12T22:29:55.715443Z",
     "start_time": "2024-03-12T22:29:55.713511Z"
    }
   },
   "outputs": [],
   "source": [
    "normalized_predictors = predictors_with_bias / np.sqrt(np.sum(np.square(predictors_with_bias), axis=0))"
   ]
  },
  {
   "cell_type": "markdown",
   "metadata": {
    "id": "F_pHHbAdDUKu"
   },
   "source": [
    "**Реализуйте алгоритм координатного спуска:** (3 балла)\n",
    "\n",
    "Ниже приведен алгоритм:"
   ]
  },
  {
   "cell_type": "markdown",
   "metadata": {
    "id": "jBQ8vT5UDUKu"
   },
   "source": [
    "<a href=\"https://ibb.co/Th3BQFn\"><img src=\"https://i.ibb.co/DK2DBS6/zascas.jpg\" alt=\"zascas\" border=\"0\"></a>"
   ]
  },
  {
   "cell_type": "markdown",
   "metadata": {
    "id": "5ce_yM20DUKv"
   },
   "source": [
    "Примечание: 1000 итераций здесь указаны для этого задания, на самом деле их может быть намного больше, нет детерменированного значения."
   ]
  },
  {
   "cell_type": "markdown",
   "metadata": {
    "id": "y3IdiHm9DUKv"
   },
   "source": [
    "Вам необходимо реализовать координатный спуск, и вывести веса в модели линейной регрессии."
   ]
  },
  {
   "cell_type": "code",
   "execution_count": 53,
   "metadata": {
    "id": "Vsi3d9OfDUKw",
    "ExecuteTime": {
     "end_time": "2024-03-12T22:29:55.759601Z",
     "start_time": "2024-03-12T22:29:55.738671Z"
    }
   },
   "outputs": [
    {
     "data": {
      "text/plain": "\u001B[3m   Коэффициенты   \u001B[0m\n\u001B[3mЛинейной Регрессии\u001B[0m\n\u001B[3m   (Реализация    \u001B[0m\n\u001B[3m  координатного   \u001B[0m\n\u001B[3m     спуска)      \u001B[0m\n┏━━━━━┳━━━━━━━━━━┓\n┃\u001B[1m \u001B[0m\u001B[1m Ω \u001B[0m\u001B[1m \u001B[0m┃\u001B[1m \u001B[0m\u001B[1mЗначение\u001B[0m\u001B[1m \u001B[0m┃\n┡━━━━━╇━━━━━━━━━━┩\n│\u001B[36m \u001B[0m\u001B[36mω_0\u001B[0m\u001B[36m \u001B[0m│ 41.5622  │\n│\u001B[36m \u001B[0m\u001B[36mω_1\u001B[0m\u001B[36m \u001B[0m│ 110.1314 │\n│\u001B[36m \u001B[0m\u001B[36mω_2\u001B[0m\u001B[36m \u001B[0m│ 73.5286  │\n│\u001B[36m \u001B[0m\u001B[36mω_3\u001B[0m\u001B[36m \u001B[0m│ -0.5501  │\n└─────┴──────────┘\n",
      "text/html": "<pre style=\"white-space:pre;overflow-x:auto;line-height:normal;font-family:Menlo,'DejaVu Sans Mono',consolas,'Courier New',monospace\"><span style=\"font-style: italic\">   Коэффициенты   </span>\n<span style=\"font-style: italic\">Линейной Регрессии</span>\n<span style=\"font-style: italic\">   (Реализация    </span>\n<span style=\"font-style: italic\">  координатного   </span>\n<span style=\"font-style: italic\">     спуска)      </span>\n┏━━━━━┳━━━━━━━━━━┓\n┃<span style=\"font-weight: bold\">  Ω  </span>┃<span style=\"font-weight: bold\"> Значение </span>┃\n┡━━━━━╇━━━━━━━━━━┩\n│<span style=\"color: #008080; text-decoration-color: #008080\"> ω_0 </span>│ 41.5622  │\n│<span style=\"color: #008080; text-decoration-color: #008080\"> ω_1 </span>│ 110.1314 │\n│<span style=\"color: #008080; text-decoration-color: #008080\"> ω_2 </span>│ 73.5286  │\n│<span style=\"color: #008080; text-decoration-color: #008080\"> ω_3 </span>│ -0.5501  │\n└─────┴──────────┘\n</pre>\n"
     },
     "metadata": {},
     "output_type": "display_data"
    }
   ],
   "source": [
    "# Реализация координатного спуска\n",
    "latex_to_text = LatexNodes2Text().latex_to_text\n",
    "\n",
    "number_of_iterations = 10 ** 3\n",
    "\n",
    "omega = np.zeros(normalized_predictors.shape[1])\n",
    "\n",
    "for iteration in range(number_of_iterations):\n",
    "    r = target - normalized_predictors.dot(omega)\n",
    "    for j in range(len(omega)):\n",
    "        r += normalized_predictors[:, j] * omega[j]\n",
    "        omega[j] = normalized_predictors[:, j].dot(r)\n",
    "        r -= normalized_predictors[:, j] * omega[j]\n",
    " \n",
    "\n",
    "table = Table(title=\"Коэффициенты Линейной Регрессии (Реализация координатного спуска)\")\n",
    "table.add_column(latex_to_text(r\"\\Omega\"), justify=\"center\", style=\"cyan\", no_wrap=True)\n",
    "table.add_column(\"Значение\", justify=\"center\")\n",
    "\n",
    "for i, w in enumerate(omega):\n",
    "    table.add_row(latex_to_text(fr\"\\omega_{{{i}}}\"), f\"{w:.4f}\")\n",
    "\n",
    "print(table)"
   ]
  },
  {
   "cell_type": "markdown",
   "metadata": {
    "id": "a3jG-7UADUKx"
   },
   "source": [
    "Сравните результаты с реализацией линейной регрессии из библиотеки sklearn:"
   ]
  },
  {
   "cell_type": "code",
   "execution_count": 54,
   "metadata": {
    "id": "SBl-1Yb5DUKy",
    "ExecuteTime": {
     "end_time": "2024-03-12T22:29:55.814048Z",
     "start_time": "2024-03-12T22:29:55.808523Z"
    }
   },
   "outputs": [
    {
     "data": {
      "text/plain": "\u001B[3m   Коэффициенты   \u001B[0m\n\u001B[3mЛинейной Регрессии\u001B[0m\n\u001B[3m    (sklearn)     \u001B[0m\n┏━━━━━┳━━━━━━━━━━┓\n┃\u001B[1m \u001B[0m\u001B[1m Ω \u001B[0m\u001B[1m \u001B[0m┃\u001B[1m \u001B[0m\u001B[1mЗначение\u001B[0m\u001B[1m \u001B[0m┃\n┡━━━━━╇━━━━━━━━━━┩\n│\u001B[36m \u001B[0m\u001B[36mω_0\u001B[0m\u001B[36m \u001B[0m│ 41.5622  │\n│\u001B[36m \u001B[0m\u001B[36mω_1\u001B[0m\u001B[36m \u001B[0m│ 110.1314 │\n│\u001B[36m \u001B[0m\u001B[36mω_2\u001B[0m\u001B[36m \u001B[0m│ 73.5286  │\n│\u001B[36m \u001B[0m\u001B[36mω_3\u001B[0m\u001B[36m \u001B[0m│ -0.5501  │\n└─────┴──────────┘\n",
      "text/html": "<pre style=\"white-space:pre;overflow-x:auto;line-height:normal;font-family:Menlo,'DejaVu Sans Mono',consolas,'Courier New',monospace\"><span style=\"font-style: italic\">   Коэффициенты   </span>\n<span style=\"font-style: italic\">Линейной Регрессии</span>\n<span style=\"font-style: italic\">    (sklearn)     </span>\n┏━━━━━┳━━━━━━━━━━┓\n┃<span style=\"font-weight: bold\">  Ω  </span>┃<span style=\"font-weight: bold\"> Значение </span>┃\n┡━━━━━╇━━━━━━━━━━┩\n│<span style=\"color: #008080; text-decoration-color: #008080\"> ω_0 </span>│ 41.5622  │\n│<span style=\"color: #008080; text-decoration-color: #008080\"> ω_1 </span>│ 110.1314 │\n│<span style=\"color: #008080; text-decoration-color: #008080\"> ω_2 </span>│ 73.5286  │\n│<span style=\"color: #008080; text-decoration-color: #008080\"> ω_3 </span>│ -0.5501  │\n└─────┴──────────┘\n</pre>\n"
     },
     "metadata": {},
     "output_type": "display_data"
    }
   ],
   "source": [
    "from sklearn.linear_model import LinearRegression\n",
    " \n",
    "model = LinearRegression(fit_intercept=False)\n",
    "model.fit(normalized_predictors, target)\n",
    " \n",
    "table = Table(title=\"Коэффициенты Линейной Регрессии (sklearn)\")\n",
    "table.add_column(latex_to_text(r\"\\Omega\"), justify=\"center\", style=\"cyan\", no_wrap=True)\n",
    "table.add_column(\"Значение\", justify=\"center\")\n",
    "\n",
    "for i, w in enumerate(model.coef_):\n",
    "    table.add_row(latex_to_text(fr\"\\omega_{{{i}}}\"), f\"{w:.4f}\")\n",
    "\n",
    "print(table)"
   ]
  },
  {
   "cell_type": "markdown",
   "metadata": {
    "id": "hIl0AGLyDUKy"
   },
   "source": [
    "Если вы все сделали верно, они должны практически совпасть!"
   ]
  },
  {
   "cell_type": "markdown",
   "metadata": {
    "id": "VCGwFnPdDUKz"
   },
   "source": [
    "## Стохастический градиентный спуск (6 баллов)"
   ]
  },
  {
   "cell_type": "markdown",
   "metadata": {
    "id": "5u7Q2YJla_Xk"
   },
   "source": [
    "**Отмасштабируйте столбцы исходной матрицы *X* (которую мы не нормализовали еще!). Для того, чтобы это сделать, надо вычесть из каждого значения среднее и разделить на стандартное отклонение** (0.5 баллов)"
   ]
  },
  {
   "cell_type": "code",
   "execution_count": 55,
   "metadata": {
    "id": "9cEpV_5La_Xo",
    "ExecuteTime": {
     "end_time": "2024-03-12T22:29:55.866310Z",
     "start_time": "2024-03-12T22:29:55.864223Z"
    }
   },
   "outputs": [],
   "source": [
    "predictors_scalable = (predictors - predictors.mean(axis=0)) / predictors.std(axis=0)"
   ]
  },
  {
   "cell_type": "markdown",
   "metadata": {
    "id": "8WkNYILHDUK1"
   },
   "source": [
    "**Добавим единичный столбец**"
   ]
  },
  {
   "cell_type": "code",
   "execution_count": 56,
   "metadata": {
    "id": "EVl5tEGtDUK1",
    "ExecuteTime": {
     "end_time": "2024-03-12T22:29:55.900055Z",
     "start_time": "2024-03-12T22:29:55.898076Z"
    }
   },
   "outputs": [],
   "source": [
    "predictors_scalable_with_bias = np.hstack([np.ones(predictors_scalable.shape[0]).reshape(-1, 1), predictors_scalable])"
   ]
  },
  {
   "cell_type": "markdown",
   "metadata": {
    "id": "m53tZA5fDUK1"
   },
   "source": [
    "**Создайте функцию mse_error для вычисления среднеквадратичной ошибки, принимающую два аргумента: реальные значения и предсказывающие, и возвращающую значение mse** (0.5 балла)"
   ]
  },
  {
   "cell_type": "markdown",
   "metadata": {
    "collapsed": false
   },
   "source": []
  },
  {
   "cell_type": "code",
   "execution_count": 57,
   "metadata": {
    "id": "0cvtC08Aa_YK",
    "ExecuteTime": {
     "end_time": "2024-03-12T22:29:55.951103Z",
     "start_time": "2024-03-12T22:29:55.949299Z"
    }
   },
   "outputs": [],
   "source": [
    "def mse_error(real_values: np.ndarray, predictive_values: np.ndarray) -> float:\n",
    "    return np.mean((real_values - predictive_values) ** 2)"
   ]
  },
  {
   "cell_type": "markdown",
   "metadata": {
    "id": "lpOLhdvBDUK2"
   },
   "source": [
    "**Сделайте наивный прогноз: предскажите продажи средним значением. После этого рассчитайте среднеквадратичную ошибку для этого прогноза** (0.5 балла)"
   ]
  },
  {
   "cell_type": "code",
   "execution_count": 58,
   "metadata": {
    "id": "kLV_XljVa_YZ",
    "ExecuteTime": {
     "end_time": "2024-03-12T22:29:55.994685Z",
     "start_time": "2024-03-12T22:29:55.991860Z"
    }
   },
   "outputs": [
    {
     "data": {
      "text/plain": "Среднеквадратичная ошибка для наивного прогноза: \u001B[1;36m27.0857\u001B[0m\n",
      "text/html": "<pre style=\"white-space:pre;overflow-x:auto;line-height:normal;font-family:Menlo,'DejaVu Sans Mono',consolas,'Courier New',monospace\">Среднеквадратичная ошибка для наивного прогноза: <span style=\"color: #008080; text-decoration-color: #008080; font-weight: bold\">27.0857</span>\n</pre>\n"
     },
     "metadata": {},
     "output_type": "display_data"
    }
   ],
   "source": [
    "mean_prediction = np.mean(target)\n",
    "mse = mse_error(target, mean_prediction)\n",
    "print(f\"Среднеквадратичная ошибка для наивного прогноза: {mse:.4f}\")"
   ]
  },
  {
   "cell_type": "markdown",
   "metadata": {
    "id": "BbybL2ola_ZM"
   },
   "source": [
    "**Создайте функцию *lin_pred*, которая может по матрице предикторов *X* и вектору весов линейной модели *w* получить вектор прогнозов** (0.5 балла)"
   ]
  },
  {
   "cell_type": "code",
   "execution_count": 59,
   "metadata": {
    "id": "1Cyz-Luaa_ZO",
    "ExecuteTime": {
     "end_time": "2024-03-12T22:29:56.032577Z",
     "start_time": "2024-03-12T22:29:56.030442Z"
    }
   },
   "outputs": [],
   "source": [
    "def lin_pred(X: np.ndarray, w: np.ndarray) -> np.ndarray:\n",
    "    return X.dot(w)\n"
   ]
  },
  {
   "cell_type": "markdown",
   "metadata": {
    "id": "BU4adBrya_Zm"
   },
   "source": [
    "**Создайте функцию *stoch_grad_step* для реализации шага стохастического градиентного спуска. (1.5 балла) \n",
    "Функция должна принимать на вход следующие аргументы:**\n",
    "* матрицу *X*\n",
    "* вектора *y* и *w*\n",
    "* число *train_ind* - индекс объекта обучающей выборки (строки матрицы *X*), по которому считается изменение весов\n",
    "* число *$\\eta$* (eta) - шаг градиентного спуска\n",
    "\n",
    "Результатом будет вектор обновленных весов"
   ]
  },
  {
   "cell_type": "code",
   "outputs": [],
   "source": [
    "def stoch_grad_step(\n",
    "    X: np.ndarray,\n",
    "    y: np.ndarray,\n",
    "    w: np.ndarray,\n",
    "    train_ind: int,\n",
    "    eta: float,\n",
    ") -> np.ndarray:\n",
    "    predictors_row, target_row = X[train_ind], y[train_ind]\n",
    "    forecast = lin_pred(X=predictors_row, w=w)\n",
    "    gradient = 2 * lin_pred(X=predictors_row.T, w=forecast - target_row)\n",
    "    \n",
    "    return w - eta * gradient"
   ],
   "metadata": {
    "collapsed": false,
    "ExecuteTime": {
     "end_time": "2024-03-12T22:29:56.074619Z",
     "start_time": "2024-03-12T22:29:56.072211Z"
    }
   },
   "execution_count": 60
  },
  {
   "cell_type": "markdown",
   "metadata": {
    "id": "dyLY-P02DUK5"
   },
   "source": [
    "Шаг для стохастического градиентного спуска выглядит следующим образом:"
   ]
  },
  {
   "cell_type": "markdown",
   "metadata": {
    "id": "ORsAyIKNDUK5"
   },
   "source": [
    "$$\\Large w_j \\leftarrow w_j - \\frac{2\\eta}{\\ell} \\sum_{i=1}^\\ell{{x_{ij}((w_0 + w_1x_{i1} + w_2x_{i2} +  w_3x_{i3}) - y_i)}}$$"
   ]
  },
  {
   "cell_type": "markdown",
   "metadata": {
    "id": "CQl2FrpuDUK6"
   },
   "source": [
    "Для того, чтобы написать функцию, нужно сделать следующее:\n",
    "    \n",
    "*  посчитать направление изменения: умножить объект обучающей выборки на 2 и на разницу между предсказанным значением и реальным, а потом поделить на количество элементов в выборке.\n",
    "* вернуть разницу между вектором весов и направлением изменения, умноженным на шаг градиентного спуска"
   ]
  },
  {
   "cell_type": "markdown",
   "source": [
    "\n",
    "**Создайте функцию *stochastic_gradient_descent*, для реализации стохастического градиентного спуска (2.5 балла)**\n",
    "\n",
    "**Функция принимает на вход следующие аргументы:**\n",
    "- Матрицу признаков X\n",
    "- Целевую переменнную\n",
    "- Изначальную точку (веса модели)\n",
    "- Параметр, определяющий темп обучения\n",
    "- Максимальное число итераций\n",
    "- Евклидово расстояние между векторами весов на соседних итерациях градиентного спуска,при котором алгоритм прекращает работу \n",
    "\n",
    "**На каждой итерации в вектор (список) должно записываться текущее значение среднеквадратичной ошибки. Функция должна возвращать вектор весов $w$, а также вектор (список) ошибок.**"
   ],
   "metadata": {
    "id": "pXwIFd0Ma_Zx"
   }
  },
  {
   "cell_type": "code",
   "outputs": [],
   "source": [
    "from dataclasses import dataclass\n",
    "\n",
    "\n",
    "@dataclass(frozen=True, kw_only=True, slots=True)\n",
    "class SGDResponse:\n",
    "    omegas: np.ndarray\n",
    "    mse: list[float]\n",
    "    \n",
    "    def __str__(self):\n",
    "        return f\"omegas: {self.omegas}\\nmse: {self.mse[-1]:.4f}\"\n",
    "    \n",
    "    __repr__ = __str__\n",
    "\n",
    "\n",
    "def stochastic_gradient_descent(\n",
    "    *,\n",
    "    predictors: np.ndarray,\n",
    "    target: np.ndarray,\n",
    "    omegas: np.ndarray | None = None,\n",
    "    tolerance: float = 10 ** -4,\n",
    "    learning_rate: float = 5.5 * 10 ** 2,\n",
    "    max_iterations: int = 10 ** 6,\n",
    ") -> SGDResponse:\n",
    "    sample_size = len(predictors)\n",
    "    number_features = predictors.shape[1]\n",
    "    omegas = omegas if omegas is not None else np.zeros(number_features)\n",
    "    \n",
    "    mse = []\n",
    "    for _ in range(max_iterations):\n",
    "    \n",
    "        random_index = np.random.randint(sample_size)\n",
    "        \n",
    "        eta = learning_rate / sample_size\n",
    "        new_omegas = stoch_grad_step(\n",
    "            X=predictors,\n",
    "            y=target,\n",
    "            w=omegas,\n",
    "            train_ind=random_index,\n",
    "            eta=eta,\n",
    "        )\n",
    "        \n",
    "        if np.linalg.norm(new_omegas - omegas) < tolerance:\n",
    "            break\n",
    "        \n",
    "        omegas = new_omegas\n",
    "        mse.append(\n",
    "            mse_error(\n",
    "                real_values=target, \n",
    "                predictive_values=lin_pred(X=predictors, w=omegas),\n",
    "            ),\n",
    "        )\n",
    "    \n",
    "    return SGDResponse(\n",
    "        omegas=omegas,\n",
    "        mse=mse,\n",
    "    )"
   ],
   "metadata": {
    "collapsed": false,
    "ExecuteTime": {
     "end_time": "2024-03-12T22:29:56.106327Z",
     "start_time": "2024-03-12T22:29:56.101847Z"
    }
   },
   "execution_count": 61
  },
  {
   "cell_type": "markdown",
   "source": [
    "Алгоритм сследующий:\n",
    "    \n",
    "* Инициализируйте расстояние между векторами весов на соседних итерациях большим числом (можно бесконечностью)\n",
    "* Создайте пустой список для фиксации ошибок\n",
    "* Создайте счетчик итераций\n",
    "* Реализуйте оновной цикл обучения пока расстояние между векторами весов больше того, при котором надо прекратить работу (когда расстояния станут слишком маленькими - значит, мы застряли в одном месте) и количество итераций меньше максимально разрешенного: сгенерируйте случайный индекс, запишите текущую ошибку в вектор ошибок, запишите в переменную текущий шаг стохастического спуска с использованием функции, написанной ранее. Далее рассчитайте текущее расстояние между векторами весов и прибавьте к счетчику итераций 1.\n",
    "* Верните вектор весов и вектор ошибок"
   ],
   "metadata": {
    "id": "ZVeoNF1JDUK7"
   }
  },
  {
   "cell_type": "code",
   "outputs": [
    {
     "data": {
      "text/plain": "omegas: [14.1586974   3.94752726  2.85651323 -0.17392886]\nmse: 2.8234"
     },
     "execution_count": 62,
     "metadata": {},
     "output_type": "execute_result"
    }
   ],
   "source": [
    "response = stochastic_gradient_descent(\n",
    "    predictors=predictors_scalable_with_bias, \n",
    "    target=target,\n",
    "    max_iterations=10 ** 5,\n",
    "    learning_rate=6 * 10 ** -1,\n",
    "    tolerance=10 ** -5,\n",
    "    omegas=np.ones(predictors_scalable_with_bias.shape[1]) * 10 ** 10,\n",
    ")\n",
    "\n",
    "response"
   ],
   "metadata": {
    "id": "CD_xcFNfa_Zy",
    "ExecuteTime": {
     "end_time": "2024-03-12T22:29:56.218083Z",
     "start_time": "2024-03-12T22:29:56.141889Z"
    }
   },
   "execution_count": 62
  },
  {
   "cell_type": "markdown",
   "source": [
    " **Запустите $10^5$ итераций стохастического градиентного спуска. Укажите вектор начальных весов, состоящий из нулей. Можете поэкспериментировать с параметром, отвечающим за темп обучения.**"
   ],
   "metadata": {
    "id": "0OqHO1Rta_Z7"
   }
  },
  {
   "cell_type": "markdown",
   "source": [
    "**Постройте график зависимости ошибки от номера итерации**"
   ],
   "metadata": {
    "id": "N6fHHT6vDUK8"
   }
  },
  {
   "cell_type": "code",
   "outputs": [
    {
     "data": {
      "image/png": "[encoded data removed]"
     },
     "metadata": {},
     "output_type": "display_data"
    }
   ],
   "source": [
    "def create_mse_fig(mse: list[float]) -> Figure:\n",
    "    fig = px.line(\n",
    "        x=range(len(mse)), \n",
    "        y=mse, \n",
    "        title=\"Стохастический Градиентный Спуск\", \n",
    "        log_x=True,\n",
    "    )\n",
    "    fig.update_layout(\n",
    "        xaxis_title=\"log(Итерация)\",\n",
    "        yaxis_title=\"MSE\",\n",
    "    )\n",
    "    \n",
    "    return fig\n",
    "\n",
    "mse_fig = create_mse_fig(mse=response.mse)\n",
    "mse_fig.update_layout(\n",
    "    autosize=False,\n",
    "    width=1800,\n",
    "    height=800,\n",
    ")\n",
    "mse_fig.show(\"png\")"
   ],
   "metadata": {
    "id": "zsSfHDzLDUK9",
    "ExecuteTime": {
     "end_time": "2024-03-12T22:33:44.670252Z",
     "start_time": "2024-03-12T22:33:43.878238Z"
    }
   },
   "execution_count": 68
  },
  {
   "cell_type": "markdown",
   "metadata": {
    "id": "O-MVOcJ6a_aY"
   },
   "source": [
    "**Выведите вектор весов, к которому сошелся метод.**"
   ]
  },
  {
   "cell_type": "code",
   "execution_count": 64,
   "metadata": {
    "id": "MPjVkXe4DUK9",
    "ExecuteTime": {
     "end_time": "2024-03-12T22:29:57.093561Z",
     "start_time": "2024-03-12T22:29:57.090606Z"
    }
   },
   "outputs": [
    {
     "data": {
      "text/plain": "Вектор весов к которому сошелся метод: \u001B[1m[\u001B[0m\u001B[1;36m14.1586974\u001B[0m   \u001B[1;36m3.94752726\u001B[0m  \u001B[1;36m2.85651323\u001B[0m \u001B[1;36m-0.17392886\u001B[0m\u001B[1m]\u001B[0m\n",
      "text/html": "<pre style=\"white-space:pre;overflow-x:auto;line-height:normal;font-family:Menlo,'DejaVu Sans Mono',consolas,'Courier New',monospace\">Вектор весов к которому сошелся метод: <span style=\"font-weight: bold\">[</span><span style=\"color: #008080; text-decoration-color: #008080; font-weight: bold\">14.1586974</span>   <span style=\"color: #008080; text-decoration-color: #008080; font-weight: bold\">3.94752726</span>  <span style=\"color: #008080; text-decoration-color: #008080; font-weight: bold\">2.85651323</span> <span style=\"color: #008080; text-decoration-color: #008080; font-weight: bold\">-0.17392886</span><span style=\"font-weight: bold\">]</span>\n</pre>\n"
     },
     "metadata": {},
     "output_type": "display_data"
    }
   ],
   "source": [
    "print(\"Вектор весов к которому сошелся метод:\", response.omegas)"
   ]
  },
  {
   "cell_type": "markdown",
   "metadata": {
    "id": "qabzMc3Qa_a5"
   },
   "source": [
    "**Выведите среднеквадратичную ошибку на последней итерации.**"
   ]
  },
  {
   "cell_type": "code",
   "execution_count": 65,
   "metadata": {
    "id": "7tPWleMIa_a7",
    "ExecuteTime": {
     "end_time": "2024-03-12T22:29:57.097120Z",
     "start_time": "2024-03-12T22:29:57.094583Z"
    }
   },
   "outputs": [
    {
     "data": {
      "text/plain": "Среднеквадратичная ошибка на последней итерации: \u001B[1;36m2.8233530141279237\u001B[0m\n",
      "text/html": "<pre style=\"white-space:pre;overflow-x:auto;line-height:normal;font-family:Menlo,'DejaVu Sans Mono',consolas,'Courier New',monospace\">Среднеквадратичная ошибка на последней итерации: <span style=\"color: #008080; text-decoration-color: #008080; font-weight: bold\">2.8233530141279237</span>\n</pre>\n"
     },
     "metadata": {},
     "output_type": "display_data"
    }
   ],
   "source": [
    "print(\"Среднеквадратичная ошибка на последней итерации:\", response.mse[-1])"
   ]
  },
  {
   "cell_type": "code",
   "outputs": [],
   "source": [],
   "metadata": {
    "collapsed": false,
    "ExecuteTime": {
     "end_time": "2024-03-12T22:29:57.099066Z",
     "start_time": "2024-03-12T22:29:57.097769Z"
    }
   },
   "execution_count": 65
  }
 ],
 "metadata": {
  "colab": {
   "collapsed_sections": [],
   "name": "Практика_Оптимизация.ipynb",
   "provenance": [],
   "toc_visible": true
  },
  "kernelspec": {
   "display_name": "Python 3 (ipykernel)",
   "language": "python",
   "name": "python3"
  },
  "language_info": {
   "codemirror_mode": {
    "name": "ipython",
    "version": 3
   },
   "file_extension": ".py",
   "mimetype": "text/x-python",
   "name": "python",
   "nbconvert_exporter": "python",
   "pygments_lexer": "ipython3",
   "version": "3.12.2"
  }
 },
 "nbformat": 4,
 "nbformat_minor": 4
}
